{
 "cells": [
  {
   "cell_type": "code",
   "execution_count": 4,
   "id": "e6e5473d",
   "metadata": {},
   "outputs": [],
   "source": [
    "my_set = {\"Zamalek\",\"Pyramides\",\"Future\"}"
   ]
  },
  {
   "cell_type": "code",
   "execution_count": 5,
   "id": "c60a5728",
   "metadata": {},
   "outputs": [],
   "source": [
    "my_set.add(\"Alahly\")"
   ]
  },
  {
   "cell_type": "code",
   "execution_count": 6,
   "id": "fd733014",
   "metadata": {},
   "outputs": [
    {
     "data": {
      "text/plain": [
       "{'Alahly', 'Future', 'Pyramides', 'Zamalek'}"
      ]
     },
     "execution_count": 6,
     "metadata": {},
     "output_type": "execute_result"
    }
   ],
   "source": [
    "my_set"
   ]
  },
  {
   "cell_type": "code",
   "execution_count": 7,
   "id": "ce2ecd1a",
   "metadata": {},
   "outputs": [],
   "source": [
    "my_set.remove(\"Alahly\")"
   ]
  },
  {
   "cell_type": "code",
   "execution_count": 8,
   "id": "1257405e",
   "metadata": {},
   "outputs": [
    {
     "data": {
      "text/plain": [
       "{'Future', 'Pyramides', 'Zamalek'}"
      ]
     },
     "execution_count": 8,
     "metadata": {},
     "output_type": "execute_result"
    }
   ],
   "source": [
    "my_set"
   ]
  },
  {
   "cell_type": "code",
   "execution_count": 9,
   "id": "02439a65",
   "metadata": {},
   "outputs": [],
   "source": [
    "del my_set"
   ]
  },
  {
   "cell_type": "code",
   "execution_count": null,
   "id": "fc6ebc0a",
   "metadata": {},
   "outputs": [],
   "source": []
  },
  {
   "cell_type": "code",
   "execution_count": null,
   "id": "b2a95e58",
   "metadata": {},
   "outputs": [],
   "source": []
  }
 ],
 "metadata": {
  "kernelspec": {
   "display_name": "Python 3 (ipykernel)",
   "language": "python",
   "name": "python3"
  },
  "language_info": {
   "codemirror_mode": {
    "name": "ipython",
    "version": 3
   },
   "file_extension": ".py",
   "mimetype": "text/x-python",
   "name": "python",
   "nbconvert_exporter": "python",
   "pygments_lexer": "ipython3",
   "version": "3.10.9"
  }
 },
 "nbformat": 4,
 "nbformat_minor": 5
}
